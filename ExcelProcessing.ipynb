{
 "cells": [
  {
   "cell_type": "markdown",
   "metadata": {},
   "source": [
    "Load the worksheet"
   ]
  },
  {
   "cell_type": "code",
   "execution_count": 1,
   "metadata": {},
   "outputs": [],
   "source": [
    "from openpyxl import load_workbook\n",
    "\n",
    "#to load the excel file\n",
    "wb = load_workbook('T1- 240737 - D1.xlsx', data_only=True) \n",
    "#to bring the sheet\n",
    "ws = wb.active "
   ]
  },
  {
   "cell_type": "markdown",
   "metadata": {},
   "source": [
    "Delete rows containing particular keywords"
   ]
  },
  {
   "cell_type": "code",
   "execution_count": null,
   "metadata": {},
   "outputs": [],
   "source": [
    "keywords = ['propagation', 'prediction']\n",
    "for row in ws.iter_rows():\n",
    "    for cell in row:\n",
    "        if cell.value in keywords:\n",
    "            ws.delete_rows(row[0].row)\n",
    "wb.save('T1- 240737 - D1.xlsx')"
   ]
  },
  {
   "cell_type": "markdown",
   "metadata": {},
   "source": [
    "Delete columns based on names"
   ]
  },
  {
   "cell_type": "code",
   "execution_count": null,
   "metadata": {},
   "outputs": [],
   "source": [
    "colNames = ['Version', 'Interest', 'Delta', 'Navigation', 'NumEvents', 'CreationCount']\n",
    "for col in ws.iter_cols():\n",
    "    for cell in col:\n",
    "        if cell.value in colNames:\n",
    "            ws.delete_cols(col[0].column)\n",
    "wb.save('T1- 240737 - D1.xlsx')"
   ]
  }
 ],
 "metadata": {
  "kernelspec": {
   "display_name": "cleanExcelEnv",
   "language": "python",
   "name": "python3"
  },
  "language_info": {
   "codemirror_mode": {
    "name": "ipython",
    "version": 3
   },
   "file_extension": ".py",
   "mimetype": "text/x-python",
   "name": "python",
   "nbconvert_exporter": "python",
   "pygments_lexer": "ipython3",
   "version": "3.11.8"
  }
 },
 "nbformat": 4,
 "nbformat_minor": 2
}
